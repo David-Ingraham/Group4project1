{
 "cells": [
  {
   "cell_type": "code",
   "execution_count": 164,
   "id": "99355040",
   "metadata": {},
   "outputs": [],
   "source": [
    "# Import libraries and dependencies\n",
    "import pandas as pd\n",
    "import requests\n",
    "import json\n",
    "import os\n",
    "from dotenv import load_dotenv\n",
    "import alpaca_trade_api as tradeapi\n",
    "import hvplot.pandas\n"
   ]
  },
  {
   "cell_type": "code",
   "execution_count": 165,
   "id": "0051c715",
   "metadata": {},
   "outputs": [
    {
     "name": "stdin",
     "output_type": "stream",
     "text": [
      "what stocks are in your portfolio? enter tickers with all cap and no spaces seperated with commas AGG,SPY,FB\n"
     ]
    }
   ],
   "source": [
    "current_portfolio = input(\"what stocks are in your portfolio? enter tickers with all cap and no spaces seperated with commas\")\n",
    "#taking in users current assets"
   ]
  },
  {
   "cell_type": "code",
   "execution_count": 166,
   "id": "f7c7cb8c",
   "metadata": {},
   "outputs": [
    {
     "name": "stdout",
     "output_type": "stream",
     "text": [
      "['AGG', 'SPY', 'FB']\n"
     ]
    }
   ],
   "source": [
    "asset_list = current_portfolio.split(\",\")\n",
    "print(asset_list)\n",
    "#confirming previous cell"
   ]
  },
  {
   "cell_type": "code",
   "execution_count": 167,
   "id": "b6b0b6c0",
   "metadata": {},
   "outputs": [
    {
     "data": {
      "text/plain": [
       "True"
      ]
     },
     "execution_count": 167,
     "metadata": {},
     "output_type": "execute_result"
    }
   ],
   "source": [
    "# Load .env environment variables\n",
    "load_dotenv()"
   ]
  },
  {
   "cell_type": "code",
   "execution_count": 168,
   "id": "642d22db",
   "metadata": {},
   "outputs": [],
   "source": [
    "# Set the variables for the Alpaca API and secret keys\n",
    "alpaca_api_key = os.getenv(\"ALPACA_API_KEY\")\n",
    "alpaca_secret_key = os.getenv(\"ALPACA_SECRET_KEY\")\n",
    "\n",
    "# Create the Alpaca tradeapi.REST object\n",
    "alpaca = tradeapi.REST(alpaca_api_key, alpaca_secret_key, api_version='v2')"
   ]
  },
  {
   "cell_type": "code",
   "execution_count": 169,
   "id": "f127b02f",
   "metadata": {},
   "outputs": [],
   "source": [
    "# Set the tickers as object of input function, could just pass asset list into get barset function\n",
    "#but i thought this was clearer\n",
    "\n",
    "# Set timeframe to 1D \n",
    "timeframe = \"1D\"\n",
    "\n",
    "# Format current date as ISO format\n",
    "# Set both the start and end date at the date of your prior weekday \n",
    "# This will give you the closing price of the previous trading day\n",
    "# Alternatively you can use a start and end date of 2020-08-07\n",
    "start_date = pd.Timestamp(\"2017-08-07\", tz=\"America/New_York\").isoformat()\n",
    "end_date = pd.Timestamp(\"2020-08-07\", tz=\"America/New_York\").isoformat()"
   ]
  },
  {
   "cell_type": "code",
   "execution_count": 170,
   "id": "87f0c41d",
   "metadata": {},
   "outputs": [
    {
     "data": {
      "text/html": [
       "<div>\n",
       "<style scoped>\n",
       "    .dataframe tbody tr th:only-of-type {\n",
       "        vertical-align: middle;\n",
       "    }\n",
       "\n",
       "    .dataframe tbody tr th {\n",
       "        vertical-align: top;\n",
       "    }\n",
       "\n",
       "    .dataframe thead tr th {\n",
       "        text-align: left;\n",
       "    }\n",
       "\n",
       "    .dataframe thead tr:last-of-type th {\n",
       "        text-align: right;\n",
       "    }\n",
       "</style>\n",
       "<table border=\"1\" class=\"dataframe\">\n",
       "  <thead>\n",
       "    <tr>\n",
       "      <th></th>\n",
       "      <th colspan=\"5\" halign=\"left\">AGG</th>\n",
       "      <th colspan=\"5\" halign=\"left\">FB</th>\n",
       "      <th colspan=\"5\" halign=\"left\">SPY</th>\n",
       "    </tr>\n",
       "    <tr>\n",
       "      <th></th>\n",
       "      <th>open</th>\n",
       "      <th>high</th>\n",
       "      <th>low</th>\n",
       "      <th>close</th>\n",
       "      <th>volume</th>\n",
       "      <th>open</th>\n",
       "      <th>high</th>\n",
       "      <th>low</th>\n",
       "      <th>close</th>\n",
       "      <th>volume</th>\n",
       "      <th>open</th>\n",
       "      <th>high</th>\n",
       "      <th>low</th>\n",
       "      <th>close</th>\n",
       "      <th>volume</th>\n",
       "    </tr>\n",
       "    <tr>\n",
       "      <th>time</th>\n",
       "      <th></th>\n",
       "      <th></th>\n",
       "      <th></th>\n",
       "      <th></th>\n",
       "      <th></th>\n",
       "      <th></th>\n",
       "      <th></th>\n",
       "      <th></th>\n",
       "      <th></th>\n",
       "      <th></th>\n",
       "      <th></th>\n",
       "      <th></th>\n",
       "      <th></th>\n",
       "      <th></th>\n",
       "      <th></th>\n",
       "    </tr>\n",
       "  </thead>\n",
       "  <tbody>\n",
       "    <tr>\n",
       "      <th>2020-08-03 00:00:00-04:00</th>\n",
       "      <td>119.37</td>\n",
       "      <td>119.40</td>\n",
       "      <td>119.1903</td>\n",
       "      <td>119.400</td>\n",
       "      <td>24615464</td>\n",
       "      <td>252.65</td>\n",
       "      <td>255.4000</td>\n",
       "      <td>250.330</td>\n",
       "      <td>251.84</td>\n",
       "      <td>21498775</td>\n",
       "      <td>328.3200</td>\n",
       "      <td>329.62</td>\n",
       "      <td>327.73</td>\n",
       "      <td>328.76</td>\n",
       "      <td>89861354</td>\n",
       "    </tr>\n",
       "    <tr>\n",
       "      <th>2020-08-04 00:00:00-04:00</th>\n",
       "      <td>119.42</td>\n",
       "      <td>119.63</td>\n",
       "      <td>119.4200</td>\n",
       "      <td>119.630</td>\n",
       "      <td>21512268</td>\n",
       "      <td>251.56</td>\n",
       "      <td>252.8000</td>\n",
       "      <td>247.430</td>\n",
       "      <td>249.83</td>\n",
       "      <td>15733319</td>\n",
       "      <td>327.8600</td>\n",
       "      <td>330.06</td>\n",
       "      <td>327.86</td>\n",
       "      <td>330.03</td>\n",
       "      <td>73684427</td>\n",
       "    </tr>\n",
       "    <tr>\n",
       "      <th>2020-08-05 00:00:00-04:00</th>\n",
       "      <td>119.39</td>\n",
       "      <td>119.49</td>\n",
       "      <td>119.3100</td>\n",
       "      <td>119.400</td>\n",
       "      <td>34239733</td>\n",
       "      <td>250.19</td>\n",
       "      <td>252.2698</td>\n",
       "      <td>247.770</td>\n",
       "      <td>249.13</td>\n",
       "      <td>11988089</td>\n",
       "      <td>331.4700</td>\n",
       "      <td>332.39</td>\n",
       "      <td>331.18</td>\n",
       "      <td>332.06</td>\n",
       "      <td>72941562</td>\n",
       "    </tr>\n",
       "    <tr>\n",
       "      <th>2020-08-06 00:00:00-04:00</th>\n",
       "      <td>119.62</td>\n",
       "      <td>119.73</td>\n",
       "      <td>119.5300</td>\n",
       "      <td>119.580</td>\n",
       "      <td>9021388</td>\n",
       "      <td>249.04</td>\n",
       "      <td>266.6000</td>\n",
       "      <td>248.665</td>\n",
       "      <td>265.28</td>\n",
       "      <td>43995059</td>\n",
       "      <td>331.4799</td>\n",
       "      <td>334.46</td>\n",
       "      <td>331.13</td>\n",
       "      <td>334.31</td>\n",
       "      <td>76988181</td>\n",
       "    </tr>\n",
       "    <tr>\n",
       "      <th>2020-08-07 00:00:00-04:00</th>\n",
       "      <td>119.66</td>\n",
       "      <td>119.73</td>\n",
       "      <td>119.3950</td>\n",
       "      <td>119.445</td>\n",
       "      <td>8830420</td>\n",
       "      <td>264.08</td>\n",
       "      <td>278.8900</td>\n",
       "      <td>263.430</td>\n",
       "      <td>268.50</td>\n",
       "      <td>71746335</td>\n",
       "      <td>333.2800</td>\n",
       "      <td>334.88</td>\n",
       "      <td>332.30</td>\n",
       "      <td>334.55</td>\n",
       "      <td>98710236</td>\n",
       "    </tr>\n",
       "  </tbody>\n",
       "</table>\n",
       "</div>"
      ],
      "text/plain": [
       "                              AGG                                       \\\n",
       "                             open    high       low    close    volume   \n",
       "time                                                                     \n",
       "2020-08-03 00:00:00-04:00  119.37  119.40  119.1903  119.400  24615464   \n",
       "2020-08-04 00:00:00-04:00  119.42  119.63  119.4200  119.630  21512268   \n",
       "2020-08-05 00:00:00-04:00  119.39  119.49  119.3100  119.400  34239733   \n",
       "2020-08-06 00:00:00-04:00  119.62  119.73  119.5300  119.580   9021388   \n",
       "2020-08-07 00:00:00-04:00  119.66  119.73  119.3950  119.445   8830420   \n",
       "\n",
       "                               FB                                       \\\n",
       "                             open      high      low   close    volume   \n",
       "time                                                                     \n",
       "2020-08-03 00:00:00-04:00  252.65  255.4000  250.330  251.84  21498775   \n",
       "2020-08-04 00:00:00-04:00  251.56  252.8000  247.430  249.83  15733319   \n",
       "2020-08-05 00:00:00-04:00  250.19  252.2698  247.770  249.13  11988089   \n",
       "2020-08-06 00:00:00-04:00  249.04  266.6000  248.665  265.28  43995059   \n",
       "2020-08-07 00:00:00-04:00  264.08  278.8900  263.430  268.50  71746335   \n",
       "\n",
       "                                SPY                                    \n",
       "                               open    high     low   close    volume  \n",
       "time                                                                   \n",
       "2020-08-03 00:00:00-04:00  328.3200  329.62  327.73  328.76  89861354  \n",
       "2020-08-04 00:00:00-04:00  327.8600  330.06  327.86  330.03  73684427  \n",
       "2020-08-05 00:00:00-04:00  331.4700  332.39  331.18  332.06  72941562  \n",
       "2020-08-06 00:00:00-04:00  331.4799  334.46  331.13  334.31  76988181  \n",
       "2020-08-07 00:00:00-04:00  333.2800  334.88  332.30  334.55  98710236  "
      ]
     },
     "execution_count": 170,
     "metadata": {},
     "output_type": "execute_result"
    }
   ],
   "source": [
    "# Use the Alpaca get_barset function to get current closing prices the portfolio\n",
    "# Be sure to set the `df` property after the function to format the response object as a DataFrame\n",
    "portfolio_df = alpaca.get_barset(tickers, timeframe, start=start_date, end=end_date, limit=1000).df\n",
    "\n",
    "# Review the first 5 rows of the Alpaca DataFrame\n",
    "portfolio_df.tail()"
   ]
  },
  {
   "cell_type": "code",
   "execution_count": 188,
   "id": "b2f12905",
   "metadata": {},
   "outputs": [
    {
     "name": "stdout",
     "output_type": "stream",
     "text": [
      "[21.52654879]\n",
      "[2.28432513]\n"
     ]
    },
    {
     "data": {
      "text/html": [
       "<div>\n",
       "<style scoped>\n",
       "    .dataframe tbody tr th:only-of-type {\n",
       "        vertical-align: middle;\n",
       "    }\n",
       "\n",
       "    .dataframe tbody tr th {\n",
       "        vertical-align: top;\n",
       "    }\n",
       "\n",
       "    .dataframe thead th {\n",
       "        text-align: right;\n",
       "    }\n",
       "</style>\n",
       "<table border=\"1\" class=\"dataframe\">\n",
       "  <thead>\n",
       "    <tr style=\"text-align: right;\">\n",
       "      <th></th>\n",
       "      <th>Ticker</th>\n",
       "      <th>STD</th>\n",
       "      <th>Yearly Return</th>\n",
       "    </tr>\n",
       "  </thead>\n",
       "  <tbody>\n",
       "    <tr>\n",
       "      <th>0</th>\n",
       "      <td>AGG</td>\n",
       "      <td>0.350569</td>\n",
       "      <td>2.997449</td>\n",
       "    </tr>\n",
       "    <tr>\n",
       "      <th>1</th>\n",
       "      <td>SPY</td>\n",
       "      <td>1.415552</td>\n",
       "      <td>12.541743</td>\n",
       "    </tr>\n",
       "    <tr>\n",
       "      <th>2</th>\n",
       "      <td>FB</td>\n",
       "      <td>2.284325</td>\n",
       "      <td>21.526549</td>\n",
       "    </tr>\n",
       "  </tbody>\n",
       "</table>\n",
       "</div>"
      ],
      "text/plain": [
       "  Ticker       STD  Yearly Return\n",
       "0    AGG  0.350569       2.997449\n",
       "1    SPY  1.415552      12.541743\n",
       "2     FB  2.284325      21.526549"
      ]
     },
     "execution_count": 188,
     "metadata": {},
     "output_type": "execute_result"
    }
   ],
   "source": [
    "#taking the std and yearly returns as is own dataframe\n",
    "#the data here had to be cleaned as is seen in the .value sfunction and .str[] function. This was necessary due to \n",
    "#the data having to be converting back and forth from a series to a dataframe \n",
    "\n",
    "std_list = []\n",
    "yearly_return = []\n",
    "\n",
    "for asset in asset_list:\n",
    "    \n",
    "    \n",
    "    daily_return = portfolio_df[asset][[\"close\"]].pct_change() *100\n",
    "    yearly_var = (daily_return.mean() * 252).values\n",
    "    \n",
    "    \n",
    "    yearly_return.append(yearly_var)\n",
    "    \n",
    "    std_var = daily_return.std().values\n",
    "    \n",
    "    std_list.append(std_var)\n",
    "    \n",
    "\n",
    "print(yearly_var)\n",
    "print(std_var)\n",
    "\n",
    "\n",
    "\n",
    "ef_df = pd.DataFrame({'Ticker': asset_list, 'STD' : std_list, 'Yearly Return' : yearly_return})\n",
    "ef_df['STD'] = ef_df['STD'].str[0]\n",
    "ef_df['Yearly Return'] = ef_df['Yearly Return'].str[0]\n",
    "ef_df.head()"
   ]
  },
  {
   "cell_type": "code",
   "execution_count": 189,
   "id": "6bb9a536",
   "metadata": {},
   "outputs": [
    {
     "data": {},
     "metadata": {},
     "output_type": "display_data"
    },
    {
     "data": {
      "application/vnd.holoviews_exec.v0+json": "",
      "text/html": [
       "<div id='1368'>\n",
       "\n",
       "\n",
       "\n",
       "\n",
       "\n",
       "  <div class=\"bk-root\" id=\"07524ac6-d771-4cee-ad32-a8e0cdda2a7d\" data-root-id=\"1368\"></div>\n",
       "</div>\n",
       "<script type=\"application/javascript\">(function(root) {\n",
       "  function embed_document(root) {\n",
       "    var docs_json = {\"e76fe95b-9bd0-4587-a258-3f4ef4d0fb90\":{\"defs\":[{\"extends\":null,\"module\":null,\"name\":\"ReactiveHTML1\",\"overrides\":[],\"properties\":[]},{\"extends\":null,\"module\":null,\"name\":\"FlexBox1\",\"overrides\":[],\"properties\":[{\"default\":\"flex-start\",\"kind\":null,\"name\":\"align_content\"},{\"default\":\"flex-start\",\"kind\":null,\"name\":\"align_items\"},{\"default\":\"row\",\"kind\":null,\"name\":\"flex_direction\"},{\"default\":\"wrap\",\"kind\":null,\"name\":\"flex_wrap\"},{\"default\":\"flex-start\",\"kind\":null,\"name\":\"justify_content\"}]},{\"extends\":null,\"module\":null,\"name\":\"TemplateActions1\",\"overrides\":[],\"properties\":[{\"default\":0,\"kind\":null,\"name\":\"open_modal\"},{\"default\":0,\"kind\":null,\"name\":\"close_modal\"}]},{\"extends\":null,\"module\":null,\"name\":\"MaterialTemplateActions1\",\"overrides\":[],\"properties\":[{\"default\":0,\"kind\":null,\"name\":\"open_modal\"},{\"default\":0,\"kind\":null,\"name\":\"close_modal\"}]}],\"roots\":{\"references\":[{\"attributes\":{},\"id\":\"1390\",\"type\":\"SaveTool\"},{\"attributes\":{\"overlay\":{\"id\":\"1395\"}},\"id\":\"1393\",\"type\":\"BoxZoomTool\"},{\"attributes\":{},\"id\":\"1417\",\"type\":\"BasicTickFormatter\"},{\"attributes\":{},\"id\":\"1425\",\"type\":\"UnionRenderers\"},{\"attributes\":{},\"id\":\"1404\",\"type\":\"Selection\"},{\"attributes\":{\"axis\":{\"id\":\"1386\"},\"dimension\":1,\"grid_line_color\":null,\"ticker\":null},\"id\":\"1389\",\"type\":\"Grid\"},{\"attributes\":{\"bottom_units\":\"screen\",\"fill_alpha\":0.5,\"fill_color\":\"lightgrey\",\"left_units\":\"screen\",\"level\":\"overlay\",\"line_alpha\":1.0,\"line_color\":\"black\",\"line_dash\":[4,4],\"line_width\":2,\"right_units\":\"screen\",\"syncable\":false,\"top_units\":\"screen\"},\"id\":\"1395\",\"type\":\"BoxAnnotation\"},{\"attributes\":{},\"id\":\"1392\",\"type\":\"WheelZoomTool\"},{\"attributes\":{\"axis_label\":\"STD\",\"formatter\":{\"id\":\"1414\"},\"major_label_policy\":{\"id\":\"1412\"},\"ticker\":{\"id\":\"1383\"}},\"id\":\"1382\",\"type\":\"LinearAxis\"},{\"attributes\":{},\"id\":\"1412\",\"type\":\"AllLabels\"},{\"attributes\":{\"margin\":[5,5,5,5],\"name\":\"HSpacer02173\",\"sizing_mode\":\"stretch_width\"},\"id\":\"1369\",\"type\":\"Spacer\"},{\"attributes\":{\"end\":2.367200397300074,\"reset_end\":2.367200397300074,\"reset_start\":0.2676935496547353,\"start\":0.2676935496547353,\"tags\":[[[\"STD\",\"STD\",null]]]},\"id\":\"1370\",\"type\":\"Range1d\"},{\"attributes\":{\"active_multi\":null,\"tools\":[{\"id\":\"1372\"},{\"id\":\"1390\"},{\"id\":\"1391\"},{\"id\":\"1392\"},{\"id\":\"1393\"},{\"id\":\"1394\"}]},\"id\":\"1396\",\"type\":\"Toolbar\"},{\"attributes\":{\"fill_alpha\":{\"value\":0.1},\"fill_color\":{\"value\":\"#30a2da\"},\"line_alpha\":{\"value\":0.1},\"line_color\":{\"value\":\"#30a2da\"},\"size\":{\"value\":5.477225575051661},\"x\":{\"field\":\"STD\"},\"y\":{\"field\":\"Yearly Return\"}},\"id\":\"1407\",\"type\":\"Scatter\"},{\"attributes\":{\"axis\":{\"id\":\"1382\"},\"grid_line_color\":null,\"ticker\":null},\"id\":\"1385\",\"type\":\"Grid\"},{\"attributes\":{\"source\":{\"id\":\"1403\"}},\"id\":\"1410\",\"type\":\"CDSView\"},{\"attributes\":{\"fill_alpha\":{\"value\":0.2},\"fill_color\":{\"value\":\"#30a2da\"},\"line_alpha\":{\"value\":0.2},\"line_color\":{\"value\":\"#30a2da\"},\"size\":{\"value\":5.477225575051661},\"x\":{\"field\":\"STD\"},\"y\":{\"field\":\"Yearly Return\"}},\"id\":\"1408\",\"type\":\"Scatter\"},{\"attributes\":{},\"id\":\"1391\",\"type\":\"PanTool\"},{\"attributes\":{\"text_color\":\"black\",\"text_font_size\":\"12pt\"},\"id\":\"1374\",\"type\":\"Title\"},{\"attributes\":{\"callback\":null,\"renderers\":[{\"id\":\"1409\"}],\"tags\":[\"hv_created\"],\"tooltips\":[[\"STD\",\"@{STD}\"],[\"Yearly Return\",\"@{Yearly_Return}\"],[\"Ticker\",\"@{Ticker}\"]]},\"id\":\"1372\",\"type\":\"HoverTool\"},{\"attributes\":{\"children\":[{\"id\":\"1369\"},{\"id\":\"1373\"},{\"id\":\"1438\"}],\"margin\":[0,0,0,0],\"name\":\"Row02169\",\"tags\":[\"embedded\"]},\"id\":\"1368\",\"type\":\"Row\"},{\"attributes\":{},\"id\":\"1387\",\"type\":\"BasicTicker\"},{\"attributes\":{\"end\":23.379458813869437,\"reset_end\":23.379458813869437,\"reset_start\":1.1445384833323564,\"start\":1.1445384833323564,\"tags\":[[[\"Yearly Return\",\"Yearly Return\",null]]]},\"id\":\"1371\",\"type\":\"Range1d\"},{\"attributes\":{\"data\":{\"STD\":{\"__ndarray__\":\"QnotNLhv1j+97oJwGab2PwMcj0BMRgJA\",\"dtype\":\"float64\",\"order\":\"little\",\"shape\":[3]},\"Ticker\":[\"AGG\",\"SPY\",\"FB\"],\"Yearly Return\":{\"__ndarray__\":\"8EntSMb6B0DhfvVSXxUpQFQDuebLhjVA\",\"dtype\":\"float64\",\"order\":\"little\",\"shape\":[3]},\"Yearly_Return\":{\"__ndarray__\":\"8EntSMb6B0DhfvVSXxUpQFQDuebLhjVA\",\"dtype\":\"float64\",\"order\":\"little\",\"shape\":[3]}},\"selected\":{\"id\":\"1404\"},\"selection_policy\":{\"id\":\"1425\"}},\"id\":\"1403\",\"type\":\"ColumnDataSource\"},{\"attributes\":{\"margin\":[5,5,5,5],\"name\":\"HSpacer02174\",\"sizing_mode\":\"stretch_width\"},\"id\":\"1438\",\"type\":\"Spacer\"},{\"attributes\":{\"axis_label\":\"Yearly Return\",\"formatter\":{\"id\":\"1417\"},\"major_label_policy\":{\"id\":\"1415\"},\"ticker\":{\"id\":\"1387\"}},\"id\":\"1386\",\"type\":\"LinearAxis\"},{\"attributes\":{\"fill_color\":{\"value\":\"#30a2da\"},\"line_color\":{\"value\":\"#30a2da\"},\"size\":{\"value\":5.477225575051661},\"x\":{\"field\":\"STD\"},\"y\":{\"field\":\"Yearly Return\"}},\"id\":\"1406\",\"type\":\"Scatter\"},{\"attributes\":{},\"id\":\"1383\",\"type\":\"BasicTicker\"},{\"attributes\":{},\"id\":\"1414\",\"type\":\"BasicTickFormatter\"},{\"attributes\":{\"data_source\":{\"id\":\"1403\"},\"glyph\":{\"id\":\"1406\"},\"hover_glyph\":null,\"muted_glyph\":{\"id\":\"1408\"},\"nonselection_glyph\":{\"id\":\"1407\"},\"selection_glyph\":{\"id\":\"1411\"},\"view\":{\"id\":\"1410\"}},\"id\":\"1409\",\"type\":\"GlyphRenderer\"},{\"attributes\":{},\"id\":\"1415\",\"type\":\"AllLabels\"},{\"attributes\":{},\"id\":\"1394\",\"type\":\"ResetTool\"},{\"attributes\":{},\"id\":\"1380\",\"type\":\"LinearScale\"},{\"attributes\":{\"angle\":{\"value\":0.0},\"fill_alpha\":{\"value\":1.0},\"fill_color\":{\"value\":\"#30a2da\"},\"hatch_alpha\":{\"value\":1.0},\"hatch_color\":{\"value\":\"black\"},\"hatch_scale\":{\"value\":12.0},\"hatch_weight\":{\"value\":1.0},\"line_alpha\":{\"value\":1.0},\"line_cap\":{\"value\":\"butt\"},\"line_color\":{\"value\":\"#30a2da\"},\"line_dash\":{\"value\":[]},\"line_dash_offset\":{\"value\":0},\"line_join\":{\"value\":\"bevel\"},\"line_width\":{\"value\":1},\"marker\":{\"value\":\"circle\"},\"size\":{\"value\":5.477225575051661},\"x\":{\"field\":\"STD\"},\"y\":{\"field\":\"Yearly Return\"}},\"id\":\"1411\",\"type\":\"Scatter\"},{\"attributes\":{},\"id\":\"1378\",\"type\":\"LinearScale\"},{\"attributes\":{\"below\":[{\"id\":\"1382\"}],\"center\":[{\"id\":\"1385\"},{\"id\":\"1389\"}],\"height\":300,\"left\":[{\"id\":\"1386\"}],\"margin\":[5,5,5,5],\"min_border_bottom\":10,\"min_border_left\":10,\"min_border_right\":10,\"min_border_top\":10,\"renderers\":[{\"id\":\"1409\"}],\"sizing_mode\":\"fixed\",\"title\":{\"id\":\"1374\"},\"toolbar\":{\"id\":\"1396\"},\"width\":700,\"x_range\":{\"id\":\"1370\"},\"x_scale\":{\"id\":\"1378\"},\"y_range\":{\"id\":\"1371\"},\"y_scale\":{\"id\":\"1380\"}},\"id\":\"1373\",\"subtype\":\"Figure\",\"type\":\"Plot\"}],\"root_ids\":[\"1368\"]},\"title\":\"Bokeh Application\",\"version\":\"2.3.2\"}};\n",
       "    var render_items = [{\"docid\":\"e76fe95b-9bd0-4587-a258-3f4ef4d0fb90\",\"root_ids\":[\"1368\"],\"roots\":{\"1368\":\"07524ac6-d771-4cee-ad32-a8e0cdda2a7d\"}}];\n",
       "    root.Bokeh.embed.embed_items_notebook(docs_json, render_items);\n",
       "  }\n",
       "  if (root.Bokeh !== undefined && root.Bokeh.Panel !== undefined) {\n",
       "    embed_document(root);\n",
       "  } else {\n",
       "    var attempts = 0;\n",
       "    var timer = setInterval(function(root) {\n",
       "      if (root.Bokeh !== undefined && root.Bokeh.Panel !== undefined) {\n",
       "        clearInterval(timer);\n",
       "        embed_document(root);\n",
       "      } else if (document.readyState == \"complete\") {\n",
       "        attempts++;\n",
       "        if (attempts > 200) {\n",
       "          clearInterval(timer);\n",
       "          console.log(\"Bokeh: ERROR: Unable to run BokehJS code because BokehJS library is missing\");\n",
       "        }\n",
       "      }\n",
       "    }, 25, root)\n",
       "  }\n",
       "})(window);</script>"
      ],
      "text/plain": [
       ":Scatter   [STD]   (Yearly Return,Ticker)"
      ]
     },
     "execution_count": 189,
     "metadata": {
      "application/vnd.holoviews_exec.v0+json": {
       "id": "1368"
      }
     },
     "output_type": "execute_result"
    }
   ],
   "source": [
    "ef_df.hvplot.scatter(x='STD', y='Yearly Return', hover_cols = ['Ticker'])\n",
    "#plotting the current simplified efficient frontier, not seen for the user just for the programmer"
   ]
  },
  {
   "cell_type": "code",
   "execution_count": 205,
   "id": "d52cb094",
   "metadata": {},
   "outputs": [
    {
     "name": "stdin",
     "output_type": "stream",
     "text": [
      "what stocks are looking to buy? enter tickers with all cap and no spaces seperated with commas MSFT,AAPL,GOOG\n"
     ]
    }
   ],
   "source": [
    "#second prompt for user to put on the stocks they are looking to buy \n",
    "new_portfolio = input(\"what stocks are looking to buy? enter tickers with all cap and no spaces seperated with commas\")\n"
   ]
  },
  {
   "cell_type": "code",
   "execution_count": 207,
   "id": "46d4dc37",
   "metadata": {},
   "outputs": [
    {
     "name": "stdout",
     "output_type": "stream",
     "text": [
      "['MSFT', 'AAPL', 'GOOG']\n"
     ]
    }
   ],
   "source": [
    "new_asset_list = new_portfolio.split(\",\")\n",
    "print(new_asset_list)\n",
    "#confirming previous cell"
   ]
  },
  {
   "cell_type": "code",
   "execution_count": 208,
   "id": "bded8f6b",
   "metadata": {},
   "outputs": [
    {
     "data": {
      "text/html": [
       "<div>\n",
       "<style scoped>\n",
       "    .dataframe tbody tr th:only-of-type {\n",
       "        vertical-align: middle;\n",
       "    }\n",
       "\n",
       "    .dataframe tbody tr th {\n",
       "        vertical-align: top;\n",
       "    }\n",
       "\n",
       "    .dataframe thead tr th {\n",
       "        text-align: left;\n",
       "    }\n",
       "\n",
       "    .dataframe thead tr:last-of-type th {\n",
       "        text-align: right;\n",
       "    }\n",
       "</style>\n",
       "<table border=\"1\" class=\"dataframe\">\n",
       "  <thead>\n",
       "    <tr>\n",
       "      <th></th>\n",
       "      <th colspan=\"5\" halign=\"left\">AAPL</th>\n",
       "      <th colspan=\"5\" halign=\"left\">GOOG</th>\n",
       "      <th colspan=\"5\" halign=\"left\">MSFT</th>\n",
       "    </tr>\n",
       "    <tr>\n",
       "      <th></th>\n",
       "      <th>open</th>\n",
       "      <th>high</th>\n",
       "      <th>low</th>\n",
       "      <th>close</th>\n",
       "      <th>volume</th>\n",
       "      <th>open</th>\n",
       "      <th>high</th>\n",
       "      <th>low</th>\n",
       "      <th>close</th>\n",
       "      <th>volume</th>\n",
       "      <th>open</th>\n",
       "      <th>high</th>\n",
       "      <th>low</th>\n",
       "      <th>close</th>\n",
       "      <th>volume</th>\n",
       "    </tr>\n",
       "    <tr>\n",
       "      <th>time</th>\n",
       "      <th></th>\n",
       "      <th></th>\n",
       "      <th></th>\n",
       "      <th></th>\n",
       "      <th></th>\n",
       "      <th></th>\n",
       "      <th></th>\n",
       "      <th></th>\n",
       "      <th></th>\n",
       "      <th></th>\n",
       "      <th></th>\n",
       "      <th></th>\n",
       "      <th></th>\n",
       "      <th></th>\n",
       "      <th></th>\n",
       "    </tr>\n",
       "  </thead>\n",
       "  <tbody>\n",
       "    <tr>\n",
       "      <th>2017-08-07 00:00:00-04:00</th>\n",
       "      <td>157.06</td>\n",
       "      <td>158.9200</td>\n",
       "      <td>156.6701</td>\n",
       "      <td>158.79</td>\n",
       "      <td>17348586</td>\n",
       "      <td>929.06</td>\n",
       "      <td>931.700</td>\n",
       "      <td>926.5000</td>\n",
       "      <td>928.85</td>\n",
       "      <td>637172</td>\n",
       "      <td>72.80</td>\n",
       "      <td>72.90</td>\n",
       "      <td>72.26</td>\n",
       "      <td>72.40</td>\n",
       "      <td>14859602</td>\n",
       "    </tr>\n",
       "    <tr>\n",
       "      <th>2017-08-08 00:00:00-04:00</th>\n",
       "      <td>158.61</td>\n",
       "      <td>161.8300</td>\n",
       "      <td>158.2700</td>\n",
       "      <td>160.10</td>\n",
       "      <td>31403180</td>\n",
       "      <td>927.09</td>\n",
       "      <td>935.814</td>\n",
       "      <td>925.6095</td>\n",
       "      <td>926.76</td>\n",
       "      <td>611275</td>\n",
       "      <td>72.09</td>\n",
       "      <td>73.13</td>\n",
       "      <td>71.75</td>\n",
       "      <td>72.78</td>\n",
       "      <td>16958136</td>\n",
       "    </tr>\n",
       "    <tr>\n",
       "      <th>2017-08-09 00:00:00-04:00</th>\n",
       "      <td>159.26</td>\n",
       "      <td>161.2700</td>\n",
       "      <td>159.1100</td>\n",
       "      <td>161.10</td>\n",
       "      <td>22294726</td>\n",
       "      <td>920.61</td>\n",
       "      <td>925.980</td>\n",
       "      <td>917.2501</td>\n",
       "      <td>922.90</td>\n",
       "      <td>753312</td>\n",
       "      <td>72.25</td>\n",
       "      <td>72.51</td>\n",
       "      <td>72.05</td>\n",
       "      <td>72.45</td>\n",
       "      <td>16809135</td>\n",
       "    </tr>\n",
       "    <tr>\n",
       "      <th>2017-08-10 00:00:00-04:00</th>\n",
       "      <td>159.90</td>\n",
       "      <td>160.0000</td>\n",
       "      <td>154.6300</td>\n",
       "      <td>155.32</td>\n",
       "      <td>32603524</td>\n",
       "      <td>917.55</td>\n",
       "      <td>919.260</td>\n",
       "      <td>906.1300</td>\n",
       "      <td>907.23</td>\n",
       "      <td>1012901</td>\n",
       "      <td>71.95</td>\n",
       "      <td>72.19</td>\n",
       "      <td>71.35</td>\n",
       "      <td>71.42</td>\n",
       "      <td>18839204</td>\n",
       "    </tr>\n",
       "    <tr>\n",
       "      <th>2017-08-11 00:00:00-04:00</th>\n",
       "      <td>156.60</td>\n",
       "      <td>158.5728</td>\n",
       "      <td>156.0700</td>\n",
       "      <td>157.49</td>\n",
       "      <td>22197629</td>\n",
       "      <td>907.97</td>\n",
       "      <td>917.780</td>\n",
       "      <td>905.5800</td>\n",
       "      <td>914.45</td>\n",
       "      <td>710452</td>\n",
       "      <td>71.57</td>\n",
       "      <td>72.70</td>\n",
       "      <td>71.28</td>\n",
       "      <td>72.51</td>\n",
       "      <td>17762519</td>\n",
       "    </tr>\n",
       "  </tbody>\n",
       "</table>\n",
       "</div>"
      ],
      "text/plain": [
       "                             AAPL                                        \\\n",
       "                             open      high       low   close    volume   \n",
       "time                                                                      \n",
       "2017-08-07 00:00:00-04:00  157.06  158.9200  156.6701  158.79  17348586   \n",
       "2017-08-08 00:00:00-04:00  158.61  161.8300  158.2700  160.10  31403180   \n",
       "2017-08-09 00:00:00-04:00  159.26  161.2700  159.1100  161.10  22294726   \n",
       "2017-08-10 00:00:00-04:00  159.90  160.0000  154.6300  155.32  32603524   \n",
       "2017-08-11 00:00:00-04:00  156.60  158.5728  156.0700  157.49  22197629   \n",
       "\n",
       "                             GOOG                                       MSFT  \\\n",
       "                             open     high       low   close   volume   open   \n",
       "time                                                                           \n",
       "2017-08-07 00:00:00-04:00  929.06  931.700  926.5000  928.85   637172  72.80   \n",
       "2017-08-08 00:00:00-04:00  927.09  935.814  925.6095  926.76   611275  72.09   \n",
       "2017-08-09 00:00:00-04:00  920.61  925.980  917.2501  922.90   753312  72.25   \n",
       "2017-08-10 00:00:00-04:00  917.55  919.260  906.1300  907.23  1012901  71.95   \n",
       "2017-08-11 00:00:00-04:00  907.97  917.780  905.5800  914.45   710452  71.57   \n",
       "\n",
       "                                                          \n",
       "                            high    low  close    volume  \n",
       "time                                                      \n",
       "2017-08-07 00:00:00-04:00  72.90  72.26  72.40  14859602  \n",
       "2017-08-08 00:00:00-04:00  73.13  71.75  72.78  16958136  \n",
       "2017-08-09 00:00:00-04:00  72.51  72.05  72.45  16809135  \n",
       "2017-08-10 00:00:00-04:00  72.19  71.35  71.42  18839204  \n",
       "2017-08-11 00:00:00-04:00  72.70  71.28  72.51  17762519  "
      ]
     },
     "execution_count": 208,
     "metadata": {},
     "output_type": "execute_result"
    }
   ],
   "source": [
    "#here i just pass the the prompt object in directly, new_asset_list\n",
    "\n",
    "new_asset_df = alpaca.get_barset(new_asset_list, timeframe, start=start_date, end=end_date, limit=1000).df\n",
    "new_asset_df.head()"
   ]
  },
  {
   "cell_type": "code",
   "execution_count": 216,
   "id": "683dda44",
   "metadata": {},
   "outputs": [
    {
     "data": {
      "text/html": [
       "<div>\n",
       "<style scoped>\n",
       "    .dataframe tbody tr th:only-of-type {\n",
       "        vertical-align: middle;\n",
       "    }\n",
       "\n",
       "    .dataframe tbody tr th {\n",
       "        vertical-align: top;\n",
       "    }\n",
       "\n",
       "    .dataframe thead th {\n",
       "        text-align: right;\n",
       "    }\n",
       "</style>\n",
       "<table border=\"1\" class=\"dataframe\">\n",
       "  <thead>\n",
       "    <tr style=\"text-align: right;\">\n",
       "      <th></th>\n",
       "      <th>Ticker</th>\n",
       "      <th>STD</th>\n",
       "      <th>Yearly Return</th>\n",
       "    </tr>\n",
       "  </thead>\n",
       "  <tbody>\n",
       "    <tr>\n",
       "      <th>0</th>\n",
       "      <td>MSFT</td>\n",
       "      <td>1.955767</td>\n",
       "      <td>40.719794</td>\n",
       "    </tr>\n",
       "    <tr>\n",
       "      <th>1</th>\n",
       "      <td>AAPL</td>\n",
       "      <td>2.075049</td>\n",
       "      <td>39.754989</td>\n",
       "    </tr>\n",
       "    <tr>\n",
       "      <th>2</th>\n",
       "      <td>GOOG</td>\n",
       "      <td>1.854781</td>\n",
       "      <td>20.185514</td>\n",
       "    </tr>\n",
       "  </tbody>\n",
       "</table>\n",
       "</div>"
      ],
      "text/plain": [
       "  Ticker       STD  Yearly Return\n",
       "0   MSFT  1.955767      40.719794\n",
       "1   AAPL  2.075049      39.754989\n",
       "2   GOOG  1.854781      20.185514"
      ]
     },
     "execution_count": 216,
     "metadata": {},
     "output_type": "execute_result"
    }
   ],
   "source": [
    "new_std_list = []\n",
    "new_yearly_return = []\n",
    "#repeating first steps for second input \n",
    "\n",
    "\n",
    "\n",
    "for asset in new_asset_list:\n",
    "    \n",
    "    \n",
    "    newdaily_return = new_asset_df[asset][[\"close\"]].pct_change() *100\n",
    "    newyearly_var = (newdaily_return.mean() * 252).values\n",
    "    \n",
    "    \n",
    "    new_yearly_return.append(newyearly_var)\n",
    "    \n",
    "    new_std_var = newdaily_return.std().values\n",
    "    \n",
    "    new_std_list.append(new_std_var)\n",
    "\n",
    "    \n",
    "    \n",
    "    \n",
    "newef_df = pd.DataFrame({'Ticker': new_asset_list, 'STD' : new_std_list, 'Yearly Return' : new_yearly_return})\n",
    "newef_df['STD'] = newef_df['STD'].str[0]\n",
    "newef_df['Yearly Return'] = newef_df['Yearly Return'].str[0]\n",
    "newef_df.head()"
   ]
  },
  {
   "cell_type": "code",
   "execution_count": 219,
   "id": "ae5eaad3",
   "metadata": {},
   "outputs": [
    {
     "name": "stdout",
     "output_type": "stream",
     "text": [
      "[0    0.048030\n",
      "1    0.052196\n",
      "2    0.091887\n",
      "dtype: float64, 0    0.048030\n",
      "1    0.052196\n",
      "2    0.091887\n",
      "dtype: float64, 0    0.048030\n",
      "1    0.052196\n",
      "2    0.091887\n",
      "dtype: float64]\n"
     ]
    }
   ],
   "source": [
    "avg_std1 = (ef_df['STD'].mean()).values\n",
    "avg_yr1 = (ef_df['Yearly Return'].mean()).values\n",
    "sr_current = avg_yr1 / avg_std1\n",
    "#creating threshold for ew asset to surpass in order to be accpeted in the portfolio, lableed as sr_curretn for current \n",
    "#current shapre ratio \n",
    "\n",
    "new_sr_list = []\n",
    "for i in newef_df:\n",
    "    a = newef_df['STD'] / newef_df['Yearly Return']\n",
    "    new_sr_list.append(a)\n",
    "#attempted conditional statement. I think I will attepmt this action in the for loop on the previous cell so \n",
    "#i can keep the asset names instead of seeing a list of integers\n",
    "#print(threshold)\n",
    "print(new_sr_list)"
   ]
  },
  {
   "cell_type": "code",
   "execution_count": 221,
   "id": "f2becbed",
   "metadata": {},
   "outputs": [
    {
     "ename": "ValueError",
     "evalue": "The truth value of a Series is ambiguous. Use a.empty, a.bool(), a.item(), a.any() or a.all().",
     "output_type": "error",
     "traceback": [
      "\u001b[0;31m---------------------------------------------------------------------------\u001b[0m",
      "\u001b[0;31mValueError\u001b[0m                                Traceback (most recent call last)",
      "\u001b[0;32m<ipython-input-221-22529d9dc8b2>\u001b[0m in \u001b[0;36m<module>\u001b[0;34m\u001b[0m\n\u001b[1;32m      1\u001b[0m \u001b[0;32mfor\u001b[0m \u001b[0msr\u001b[0m \u001b[0;32min\u001b[0m \u001b[0mnew_sr_list\u001b[0m\u001b[0;34m:\u001b[0m\u001b[0;34m\u001b[0m\u001b[0;34m\u001b[0m\u001b[0m\n\u001b[0;32m----> 2\u001b[0;31m     \u001b[0;32mif\u001b[0m \u001b[0msr\u001b[0m \u001b[0;34m>\u001b[0m \u001b[0msr_current\u001b[0m\u001b[0;34m:\u001b[0m\u001b[0;34m\u001b[0m\u001b[0;34m\u001b[0m\u001b[0m\n\u001b[0m\u001b[1;32m      3\u001b[0m         \u001b[0mprint\u001b[0m\u001b[0;34m(\u001b[0m\u001b[0;34mf'buy {sr}'\u001b[0m\u001b[0;34m)\u001b[0m\u001b[0;34m\u001b[0m\u001b[0;34m\u001b[0m\u001b[0m\n\u001b[1;32m      4\u001b[0m     \u001b[0;32melif\u001b[0m \u001b[0msr\u001b[0m \u001b[0;34m==\u001b[0m \u001b[0msr_current\u001b[0m\u001b[0;34m:\u001b[0m\u001b[0;34m\u001b[0m\u001b[0;34m\u001b[0m\u001b[0m\n\u001b[1;32m      5\u001b[0m             \u001b[0mprint\u001b[0m\u001b[0;34m(\u001b[0m\u001b[0;34mf'you get the same bang for your buck with asset {sr}'\u001b[0m\u001b[0;34m)\u001b[0m\u001b[0;34m\u001b[0m\u001b[0;34m\u001b[0m\u001b[0m\n",
      "\u001b[0;32m/opt/anaconda3/envs/dev/lib/python3.7/site-packages/pandas/core/generic.py\u001b[0m in \u001b[0;36m__nonzero__\u001b[0;34m(self)\u001b[0m\n\u001b[1;32m   1441\u001b[0m     \u001b[0;32mdef\u001b[0m \u001b[0m__nonzero__\u001b[0m\u001b[0;34m(\u001b[0m\u001b[0mself\u001b[0m\u001b[0;34m)\u001b[0m\u001b[0;34m:\u001b[0m\u001b[0;34m\u001b[0m\u001b[0;34m\u001b[0m\u001b[0m\n\u001b[1;32m   1442\u001b[0m         raise ValueError(\n\u001b[0;32m-> 1443\u001b[0;31m             \u001b[0;34mf\"The truth value of a {type(self).__name__} is ambiguous. \"\u001b[0m\u001b[0;34m\u001b[0m\u001b[0;34m\u001b[0m\u001b[0m\n\u001b[0m\u001b[1;32m   1444\u001b[0m             \u001b[0;34m\"Use a.empty, a.bool(), a.item(), a.any() or a.all().\"\u001b[0m\u001b[0;34m\u001b[0m\u001b[0;34m\u001b[0m\u001b[0m\n\u001b[1;32m   1445\u001b[0m         )\n",
      "\u001b[0;31mValueError\u001b[0m: The truth value of a Series is ambiguous. Use a.empty, a.bool(), a.item(), a.any() or a.all()."
     ]
    }
   ],
   "source": [
    "for sr in new_sr_list:\n",
    "    if sr > sr_current:\n",
    "        print(f'buy {sr}')\n",
    "    elif sr == sr_current:\n",
    "            print(f'you get the same bang for your buck with asset {sr}')\n",
    "    elif sr < sr_current:\n",
    "        print(f'dont buy {sr}')"
   ]
  },
  {
   "cell_type": "code",
   "execution_count": null,
   "id": "347f296d",
   "metadata": {},
   "outputs": [],
   "source": [
    "\n",
    "\n",
    "new_asset_std_over_yr = newef_df['STD'][asset] / newef_df['Yearly Return'][asset]\n",
    "std_over_yr_threshold = ef_df['STD'] / ef_df['Yearly Return'][asset]\n",
    "\n",
    "for asset in new_asset_list\n",
    "    if newef_df['STD'][asset] / newef_df['Yearly Return'][asset]"
   ]
  },
  {
   "cell_type": "code",
   "execution_count": 163,
   "id": "a22a1bc7",
   "metadata": {},
   "outputs": [
    {
     "name": "stdout",
     "output_type": "stream",
     "text": [
      "close    21.520229\n",
      "dtype: float64\n"
     ]
    }
   ],
   "source": [
    " daily_returns = portfolio_df[asset][[\"close\"]].pct_change() *100\n",
    "yearly_returns = daily_returns.mean() * 252\n",
    "print( yearly_returns)"
   ]
  },
  {
   "cell_type": "code",
   "execution_count": null,
   "id": "676ff443",
   "metadata": {},
   "outputs": [],
   "source": []
  },
  {
   "cell_type": "code",
   "execution_count": 90,
   "id": "b35221a1",
   "metadata": {},
   "outputs": [
    {
     "name": "stdout",
     "output_type": "stream",
     "text": [
      "                              close\n",
      "time                               \n",
      "2017-08-07 00:00:00-04:00       NaN\n",
      "2017-08-08 00:00:00-04:00 -0.225540\n",
      "2017-08-09 00:00:00-04:00 -0.024667\n",
      "2017-08-10 00:00:00-04:00 -1.391417\n",
      "2017-08-11 00:00:00-04:00  0.131261\n",
      "...                             ...\n",
      "2020-08-03 00:00:00-04:00  0.676772\n",
      "2020-08-04 00:00:00-04:00  0.386300\n",
      "2020-08-05 00:00:00-04:00  0.615096\n",
      "2020-08-06 00:00:00-04:00  0.677588\n",
      "2020-08-07 00:00:00-04:00  0.071790\n",
      "\n",
      "[757 rows x 1 columns]\n"
     ]
    }
   ],
   "source": [
    "daily_returns = portfolio_df['SPY'][[\"close\"]].pct_change() *100\n",
    "print(daily_returns)"
   ]
  },
  {
   "cell_type": "code",
   "execution_count": null,
   "id": "ea9fe3c6",
   "metadata": {},
   "outputs": [],
   "source": []
  },
  {
   "cell_type": "code",
   "execution_count": 67,
   "id": "13b1e437",
   "metadata": {},
   "outputs": [
    {
     "data": {
      "text/html": [
       "<div>\n",
       "<style scoped>\n",
       "    .dataframe tbody tr th:only-of-type {\n",
       "        vertical-align: middle;\n",
       "    }\n",
       "\n",
       "    .dataframe tbody tr th {\n",
       "        vertical-align: top;\n",
       "    }\n",
       "\n",
       "    .dataframe thead th {\n",
       "        text-align: right;\n",
       "    }\n",
       "</style>\n",
       "<table border=\"1\" class=\"dataframe\">\n",
       "  <thead>\n",
       "    <tr style=\"text-align: right;\">\n",
       "      <th></th>\n",
       "    </tr>\n",
       "  </thead>\n",
       "  <tbody>\n",
       "  </tbody>\n",
       "</table>\n",
       "</div>"
      ],
      "text/plain": [
       "Empty DataFrame\n",
       "Columns: []\n",
       "Index: []"
      ]
     },
     "execution_count": 67,
     "metadata": {},
     "output_type": "execute_result"
    }
   ],
   "source": [
    "result = pd.DataFrame()\n",
    "for asset in asset_list:\n",
    "    daily_returns = portfolio_df[asset][\"close\"].pct_change() *100\n",
    "    yearly_rerutn = daily_returns.mean() * 252\n",
    "    asset_std = daily_returns.std\n",
    "    result.append(daily_returns)\n",
    "    \n",
    "\n",
    "result.head()   \n",
    "    #print(f\"The {asset} closing price is ${close_price}\")"
   ]
  },
  {
   "cell_type": "code",
   "execution_count": 79,
   "id": "fc5cdc84",
   "metadata": {},
   "outputs": [
    {
     "name": "stdout",
     "output_type": "stream",
     "text": [
      "The AGG closing price is $time\n",
      "2017-08-07 00:00:00-04:00    109.6850\n",
      "2017-08-08 00:00:00-04:00    109.5810\n",
      "2017-08-09 00:00:00-04:00    109.6700\n",
      "2017-08-10 00:00:00-04:00    109.8053\n",
      "2017-08-11 00:00:00-04:00    109.8850\n",
      "                               ...   \n",
      "2020-08-03 00:00:00-04:00    119.4000\n",
      "2020-08-04 00:00:00-04:00    119.6300\n",
      "2020-08-05 00:00:00-04:00    119.4000\n",
      "2020-08-06 00:00:00-04:00    119.5800\n",
      "2020-08-07 00:00:00-04:00    119.4450\n",
      "Name: close, Length: 757, dtype: float64\n"
     ]
    }
   ],
   "source": [
    "# Access the closing price for AGG from the Alpaca DataFrame\n",
    "# Converting the value to a floating point number\n",
    "agg_close_price = portfolio_df[\"AGG\"][\"close\"]\n",
    "\n",
    "# Print the AGG closing price\n",
    "agg_close_price_float = (agg_close_price)\n",
    "print(f\"The AGG closing price is ${agg_close_price_float}\")"
   ]
  },
  {
   "cell_type": "code",
   "execution_count": 80,
   "id": "97b997ef",
   "metadata": {},
   "outputs": [
    {
     "name": "stdout",
     "output_type": "stream",
     "text": [
      "The SPY closing price is $time\n",
      "2017-08-07 00:00:00-04:00    247.850\n",
      "2017-08-08 00:00:00-04:00    247.291\n",
      "2017-08-09 00:00:00-04:00    247.230\n",
      "2017-08-10 00:00:00-04:00    243.790\n",
      "2017-08-11 00:00:00-04:00    244.110\n",
      "                              ...   \n",
      "2020-08-03 00:00:00-04:00    328.760\n",
      "2020-08-04 00:00:00-04:00    330.030\n",
      "2020-08-05 00:00:00-04:00    332.060\n",
      "2020-08-06 00:00:00-04:00    334.310\n",
      "2020-08-07 00:00:00-04:00    334.550\n",
      "Name: close, Length: 757, dtype: float64\n"
     ]
    }
   ],
   "source": [
    "# Access the closing price for SPY from the Alpaca DataFrame\n",
    "# Converting the value to a floating point number\n",
    "spy_close_price = portfolio_df[\"SPY\"][\"close\"]\n",
    "\n",
    "# Print the SPY closing price\n",
    "spy_close_price_float = (spy_close_price)\n",
    "print(f\"The SPY closing price is ${spy_close_price_float}\")"
   ]
  },
  {
   "cell_type": "code",
   "execution_count": 81,
   "id": "c09d7853",
   "metadata": {},
   "outputs": [
    {
     "name": "stdout",
     "output_type": "stream",
     "text": [
      "The daily return for AGG is $time\n",
      "2017-08-08 00:00:00-04:00   -0.094817\n",
      "2017-08-09 00:00:00-04:00    0.081218\n",
      "2017-08-10 00:00:00-04:00    0.123370\n",
      "2017-08-11 00:00:00-04:00    0.072583\n",
      "2017-08-14 00:00:00-04:00   -0.068253\n",
      "                               ...   \n",
      "2020-08-03 00:00:00-04:00   -0.133824\n",
      "2020-08-04 00:00:00-04:00    0.192630\n",
      "2020-08-05 00:00:00-04:00   -0.192259\n",
      "2020-08-06 00:00:00-04:00    0.150754\n",
      "2020-08-07 00:00:00-04:00   -0.112895\n",
      "Name: close, Length: 756, dtype: float64\n",
      "The daily return for SPY is $time\n",
      "2017-08-08 00:00:00-04:00   -0.225540\n",
      "2017-08-09 00:00:00-04:00   -0.024667\n",
      "2017-08-10 00:00:00-04:00   -1.391417\n",
      "2017-08-11 00:00:00-04:00    0.131261\n",
      "2017-08-14 00:00:00-04:00    0.987260\n",
      "                               ...   \n",
      "2020-08-03 00:00:00-04:00    0.676772\n",
      "2020-08-04 00:00:00-04:00    0.386300\n",
      "2020-08-05 00:00:00-04:00    0.615096\n",
      "2020-08-06 00:00:00-04:00    0.677588\n",
      "2020-08-07 00:00:00-04:00    0.071790\n",
      "Name: close, Length: 756, dtype: float64\n"
     ]
    }
   ],
   "source": [
    "# Calculate average daily returns for assets\n",
    "agg_daily_return = agg_close_price.pct_change().dropna() * 100\n",
    "print(f\"The daily return for AGG is ${agg_daily_return}\")\n",
    "\n",
    "spy_daily_return = spy_close_price.pct_change().dropna() * 100\n",
    "print(f\"The daily return for SPY is ${spy_daily_return}\")"
   ]
  },
  {
   "cell_type": "code",
   "execution_count": 82,
   "id": "c26715a8",
   "metadata": {},
   "outputs": [
    {
     "data": {
      "text/plain": [
       "2.9974485108771134"
      ]
     },
     "execution_count": 82,
     "metadata": {},
     "output_type": "execute_result"
    }
   ],
   "source": [
    "agg_yearly =  agg_daily_return.mean() * 252\n",
    "agg_yearly"
   ]
  },
  {
   "cell_type": "code",
   "execution_count": 83,
   "id": "6ab57f86",
   "metadata": {},
   "outputs": [
    {
     "data": {
      "text/plain": [
       "12.541742889850356"
      ]
     },
     "execution_count": 83,
     "metadata": {},
     "output_type": "execute_result"
    }
   ],
   "source": [
    "spy_yearly =  spy_daily_return.mean() * 252\n",
    "spy_yearly"
   ]
  },
  {
   "cell_type": "code",
   "execution_count": 84,
   "id": "1503666f",
   "metadata": {},
   "outputs": [
    {
     "data": {
      "text/plain": [
       "0.350568819956525"
      ]
     },
     "execution_count": 84,
     "metadata": {},
     "output_type": "execute_result"
    }
   ],
   "source": [
    "agg_std =  agg_daily_return.std() \n",
    "agg_std"
   ]
  },
  {
   "cell_type": "code",
   "execution_count": 85,
   "id": "cdac6b8f",
   "metadata": {},
   "outputs": [
    {
     "data": {
      "text/plain": [
       "1.4155516047457433"
      ]
     },
     "execution_count": 85,
     "metadata": {},
     "output_type": "execute_result"
    }
   ],
   "source": [
    "spy_std =  spy_daily_return.std()\n",
    "spy_std"
   ]
  },
  {
   "cell_type": "code",
   "execution_count": 86,
   "id": "05430a91",
   "metadata": {},
   "outputs": [],
   "source": [
    "ticker = ['SPY', 'AGG'] \n",
    "std = [agg_std, spy_std]\n",
    "yearly_return = [spy_yearly, agg_yearly]"
   ]
  },
  {
   "cell_type": "code",
   "execution_count": 87,
   "id": "9f6d3e8e",
   "metadata": {},
   "outputs": [
    {
     "data": {
      "text/html": [
       "<div>\n",
       "<style scoped>\n",
       "    .dataframe tbody tr th:only-of-type {\n",
       "        vertical-align: middle;\n",
       "    }\n",
       "\n",
       "    .dataframe tbody tr th {\n",
       "        vertical-align: top;\n",
       "    }\n",
       "\n",
       "    .dataframe thead th {\n",
       "        text-align: right;\n",
       "    }\n",
       "</style>\n",
       "<table border=\"1\" class=\"dataframe\">\n",
       "  <thead>\n",
       "    <tr style=\"text-align: right;\">\n",
       "      <th></th>\n",
       "      <th>Ticker</th>\n",
       "      <th>STD</th>\n",
       "      <th>Yearly Return</th>\n",
       "    </tr>\n",
       "  </thead>\n",
       "  <tbody>\n",
       "    <tr>\n",
       "      <th>0</th>\n",
       "      <td>SPY</td>\n",
       "      <td>0.350569</td>\n",
       "      <td>12.541743</td>\n",
       "    </tr>\n",
       "    <tr>\n",
       "      <th>1</th>\n",
       "      <td>AGG</td>\n",
       "      <td>1.415552</td>\n",
       "      <td>2.997449</td>\n",
       "    </tr>\n",
       "  </tbody>\n",
       "</table>\n",
       "</div>"
      ],
      "text/plain": [
       "  Ticker       STD  Yearly Return\n",
       "0    SPY  0.350569      12.541743\n",
       "1    AGG  1.415552       2.997449"
      ]
     },
     "execution_count": 87,
     "metadata": {},
     "output_type": "execute_result"
    }
   ],
   "source": [
    "ef_df = pd.DataFrame({'Ticker': ticker, 'STD' : std, 'Yearly Return' : yearly_return})\n",
    "ef_df"
   ]
  },
  {
   "cell_type": "code",
   "execution_count": 88,
   "id": "b390d150",
   "metadata": {},
   "outputs": [
    {
     "data": {},
     "metadata": {},
     "output_type": "display_data"
    },
    {
     "data": {
      "application/vnd.holoviews_exec.v0+json": "",
      "text/html": [
       "<div id='1002'>\n",
       "\n",
       "\n",
       "\n",
       "\n",
       "\n",
       "  <div class=\"bk-root\" id=\"23d07200-c790-4540-a16a-473e6e40b482\" data-root-id=\"1002\"></div>\n",
       "</div>\n",
       "<script type=\"application/javascript\">(function(root) {\n",
       "  function embed_document(root) {\n",
       "    var docs_json = {\"936192d5-e54f-47e9-ab19-5ece16989cf6\":{\"defs\":[{\"extends\":null,\"module\":null,\"name\":\"ReactiveHTML1\",\"overrides\":[],\"properties\":[]},{\"extends\":null,\"module\":null,\"name\":\"FlexBox1\",\"overrides\":[],\"properties\":[{\"default\":\"flex-start\",\"kind\":null,\"name\":\"align_content\"},{\"default\":\"flex-start\",\"kind\":null,\"name\":\"align_items\"},{\"default\":\"row\",\"kind\":null,\"name\":\"flex_direction\"},{\"default\":\"wrap\",\"kind\":null,\"name\":\"flex_wrap\"},{\"default\":\"flex-start\",\"kind\":null,\"name\":\"justify_content\"}]},{\"extends\":null,\"module\":null,\"name\":\"TemplateActions1\",\"overrides\":[],\"properties\":[{\"default\":0,\"kind\":null,\"name\":\"open_modal\"},{\"default\":0,\"kind\":null,\"name\":\"close_modal\"}]},{\"extends\":null,\"module\":null,\"name\":\"MaterialTemplateActions1\",\"overrides\":[],\"properties\":[{\"default\":0,\"kind\":null,\"name\":\"open_modal\"},{\"default\":0,\"kind\":null,\"name\":\"close_modal\"}]}],\"roots\":{\"references\":[{\"attributes\":{\"margin\":[5,5,5,5],\"name\":\"HSpacer01632\",\"sizing_mode\":\"stretch_width\"},\"id\":\"1003\",\"type\":\"Spacer\"},{\"attributes\":{\"axis_label\":\"STD\",\"formatter\":{\"id\":\"1048\"},\"major_label_policy\":{\"id\":\"1046\"},\"ticker\":{\"id\":\"1017\"}},\"id\":\"1016\",\"type\":\"LinearAxis\"},{\"attributes\":{},\"id\":\"1025\",\"type\":\"PanTool\"},{\"attributes\":{\"text_color\":\"black\",\"text_font_size\":\"12pt\"},\"id\":\"1008\",\"type\":\"Title\"},{\"attributes\":{\"fill_color\":{\"value\":\"#30a2da\"},\"line_color\":{\"value\":\"#30a2da\"},\"size\":{\"value\":5.477225575051661},\"x\":{\"field\":\"STD\"},\"y\":{\"field\":\"Yearly Return\"}},\"id\":\"1040\",\"type\":\"Scatter\"},{\"attributes\":{\"end\":13.496172327747681,\"reset_end\":13.496172327747681,\"reset_start\":2.043019072979789,\"start\":2.043019072979789,\"tags\":[[[\"Yearly Return\",\"Yearly Return\",null]]]},\"id\":\"1005\",\"type\":\"Range1d\"},{\"attributes\":{\"data_source\":{\"id\":\"1037\"},\"glyph\":{\"id\":\"1040\"},\"hover_glyph\":null,\"muted_glyph\":{\"id\":\"1042\"},\"nonselection_glyph\":{\"id\":\"1041\"},\"selection_glyph\":{\"id\":\"1045\"},\"view\":{\"id\":\"1044\"}},\"id\":\"1043\",\"type\":\"GlyphRenderer\"},{\"attributes\":{\"fill_alpha\":{\"value\":0.1},\"fill_color\":{\"value\":\"#30a2da\"},\"line_alpha\":{\"value\":0.1},\"line_color\":{\"value\":\"#30a2da\"},\"size\":{\"value\":5.477225575051661},\"x\":{\"field\":\"STD\"},\"y\":{\"field\":\"Yearly Return\"}},\"id\":\"1041\",\"type\":\"Scatter\"},{\"attributes\":{},\"id\":\"1059\",\"type\":\"UnionRenderers\"},{\"attributes\":{},\"id\":\"1051\",\"type\":\"BasicTickFormatter\"},{\"attributes\":{},\"id\":\"1012\",\"type\":\"LinearScale\"},{\"attributes\":{\"fill_alpha\":{\"value\":0.2},\"fill_color\":{\"value\":\"#30a2da\"},\"line_alpha\":{\"value\":0.2},\"line_color\":{\"value\":\"#30a2da\"},\"size\":{\"value\":5.477225575051661},\"x\":{\"field\":\"STD\"},\"y\":{\"field\":\"Yearly Return\"}},\"id\":\"1042\",\"type\":\"Scatter\"},{\"attributes\":{},\"id\":\"1017\",\"type\":\"BasicTicker\"},{\"attributes\":{\"axis\":{\"id\":\"1020\"},\"dimension\":1,\"grid_line_color\":null,\"ticker\":null},\"id\":\"1023\",\"type\":\"Grid\"},{\"attributes\":{\"source\":{\"id\":\"1037\"}},\"id\":\"1044\",\"type\":\"CDSView\"},{\"attributes\":{\"bottom_units\":\"screen\",\"fill_alpha\":0.5,\"fill_color\":\"lightgrey\",\"left_units\":\"screen\",\"level\":\"overlay\",\"line_alpha\":1.0,\"line_color\":\"black\",\"line_dash\":[4,4],\"line_width\":2,\"right_units\":\"screen\",\"syncable\":false,\"top_units\":\"screen\"},\"id\":\"1029\",\"type\":\"BoxAnnotation\"},{\"attributes\":{\"data\":{\"STD\":{\"__ndarray__\":\"QnotNLhv1j+97oJwGab2Pw==\",\"dtype\":\"float64\",\"order\":\"little\",\"shape\":[2]},\"Yearly Return\":{\"__ndarray__\":\"4X71Ul8VKUDwSe1IxvoHQA==\",\"dtype\":\"float64\",\"order\":\"little\",\"shape\":[2]},\"Yearly_Return\":{\"__ndarray__\":\"4X71Ul8VKUDwSe1IxvoHQA==\",\"dtype\":\"float64\",\"order\":\"little\",\"shape\":[2]}},\"selected\":{\"id\":\"1038\"},\"selection_policy\":{\"id\":\"1059\"}},\"id\":\"1037\",\"type\":\"ColumnDataSource\"},{\"attributes\":{\"callback\":null,\"renderers\":[{\"id\":\"1043\"}],\"tags\":[\"hv_created\"],\"tooltips\":[[\"STD\",\"@{STD}\"],[\"Yearly Return\",\"@{Yearly_Return}\"]]},\"id\":\"1006\",\"type\":\"HoverTool\"},{\"attributes\":{\"active_multi\":null,\"tools\":[{\"id\":\"1006\"},{\"id\":\"1024\"},{\"id\":\"1025\"},{\"id\":\"1026\"},{\"id\":\"1027\"},{\"id\":\"1028\"}]},\"id\":\"1030\",\"type\":\"Toolbar\"},{\"attributes\":{\"angle\":{\"value\":0.0},\"fill_alpha\":{\"value\":1.0},\"fill_color\":{\"value\":\"#30a2da\"},\"hatch_alpha\":{\"value\":1.0},\"hatch_color\":{\"value\":\"black\"},\"hatch_scale\":{\"value\":12.0},\"hatch_weight\":{\"value\":1.0},\"line_alpha\":{\"value\":1.0},\"line_cap\":{\"value\":\"butt\"},\"line_color\":{\"value\":\"#30a2da\"},\"line_dash\":{\"value\":[]},\"line_dash_offset\":{\"value\":0},\"line_join\":{\"value\":\"bevel\"},\"line_width\":{\"value\":1},\"marker\":{\"value\":\"circle\"},\"size\":{\"value\":5.477225575051661},\"x\":{\"field\":\"STD\"},\"y\":{\"field\":\"Yearly Return\"}},\"id\":\"1045\",\"type\":\"Scatter\"},{\"attributes\":{},\"id\":\"1024\",\"type\":\"SaveTool\"},{\"attributes\":{\"axis\":{\"id\":\"1016\"},\"grid_line_color\":null,\"ticker\":null},\"id\":\"1019\",\"type\":\"Grid\"},{\"attributes\":{},\"id\":\"1026\",\"type\":\"WheelZoomTool\"},{\"attributes\":{\"children\":[{\"id\":\"1003\"},{\"id\":\"1007\"},{\"id\":\"1072\"}],\"margin\":[0,0,0,0],\"name\":\"Row01628\",\"tags\":[\"embedded\"]},\"id\":\"1002\",\"type\":\"Row\"},{\"attributes\":{\"axis_label\":\"Yearly Return\",\"formatter\":{\"id\":\"1051\"},\"major_label_policy\":{\"id\":\"1049\"},\"ticker\":{\"id\":\"1021\"}},\"id\":\"1020\",\"type\":\"LinearAxis\"},{\"attributes\":{},\"id\":\"1046\",\"type\":\"AllLabels\"},{\"attributes\":{\"overlay\":{\"id\":\"1029\"}},\"id\":\"1027\",\"type\":\"BoxZoomTool\"},{\"attributes\":{},\"id\":\"1021\",\"type\":\"BasicTicker\"},{\"attributes\":{\"margin\":[5,5,5,5],\"name\":\"HSpacer01633\",\"sizing_mode\":\"stretch_width\"},\"id\":\"1072\",\"type\":\"Spacer\"},{\"attributes\":{},\"id\":\"1049\",\"type\":\"AllLabels\"},{\"attributes\":{\"below\":[{\"id\":\"1016\"}],\"center\":[{\"id\":\"1019\"},{\"id\":\"1023\"}],\"height\":300,\"left\":[{\"id\":\"1020\"}],\"margin\":[5,5,5,5],\"min_border_bottom\":10,\"min_border_left\":10,\"min_border_right\":10,\"min_border_top\":10,\"renderers\":[{\"id\":\"1043\"}],\"sizing_mode\":\"fixed\",\"title\":{\"id\":\"1008\"},\"toolbar\":{\"id\":\"1030\"},\"width\":700,\"x_range\":{\"id\":\"1004\"},\"x_scale\":{\"id\":\"1012\"},\"y_range\":{\"id\":\"1005\"},\"y_scale\":{\"id\":\"1014\"}},\"id\":\"1007\",\"subtype\":\"Figure\",\"type\":\"Plot\"},{\"attributes\":{},\"id\":\"1038\",\"type\":\"Selection\"},{\"attributes\":{},\"id\":\"1014\",\"type\":\"LinearScale\"},{\"attributes\":{},\"id\":\"1028\",\"type\":\"ResetTool\"},{\"attributes\":{},\"id\":\"1048\",\"type\":\"BasicTickFormatter\"},{\"attributes\":{\"end\":1.4611937240938526,\"reset_end\":1.4611937240938526,\"reset_start\":0.30492670060841565,\"start\":0.30492670060841565,\"tags\":[[[\"STD\",\"STD\",null]]]},\"id\":\"1004\",\"type\":\"Range1d\"}],\"root_ids\":[\"1002\"]},\"title\":\"Bokeh Application\",\"version\":\"2.3.2\"}};\n",
       "    var render_items = [{\"docid\":\"936192d5-e54f-47e9-ab19-5ece16989cf6\",\"root_ids\":[\"1002\"],\"roots\":{\"1002\":\"23d07200-c790-4540-a16a-473e6e40b482\"}}];\n",
       "    root.Bokeh.embed.embed_items_notebook(docs_json, render_items);\n",
       "  }\n",
       "  if (root.Bokeh !== undefined && root.Bokeh.Panel !== undefined) {\n",
       "    embed_document(root);\n",
       "  } else {\n",
       "    var attempts = 0;\n",
       "    var timer = setInterval(function(root) {\n",
       "      if (root.Bokeh !== undefined && root.Bokeh.Panel !== undefined) {\n",
       "        clearInterval(timer);\n",
       "        embed_document(root);\n",
       "      } else if (document.readyState == \"complete\") {\n",
       "        attempts++;\n",
       "        if (attempts > 200) {\n",
       "          clearInterval(timer);\n",
       "          console.log(\"Bokeh: ERROR: Unable to run BokehJS code because BokehJS library is missing\");\n",
       "        }\n",
       "      }\n",
       "    }, 25, root)\n",
       "  }\n",
       "})(window);</script>"
      ],
      "text/plain": [
       ":Scatter   [STD]   (Yearly Return)"
      ]
     },
     "execution_count": 88,
     "metadata": {
      "application/vnd.holoviews_exec.v0+json": {
       "id": "1002"
      }
     },
     "output_type": "execute_result"
    }
   ],
   "source": [
    "ef_df.hvplot.scatter(x='STD', y='Yearly Return')"
   ]
  },
  {
   "cell_type": "code",
   "execution_count": null,
   "id": "3c8d9a2a",
   "metadata": {},
   "outputs": [],
   "source": []
  }
 ],
 "metadata": {
  "kernelspec": {
   "display_name": "dev",
   "language": "python",
   "name": "dev"
  },
  "language_info": {
   "codemirror_mode": {
    "name": "ipython",
    "version": 3
   },
   "file_extension": ".py",
   "mimetype": "text/x-python",
   "name": "python",
   "nbconvert_exporter": "python",
   "pygments_lexer": "ipython3",
   "version": "3.7.10"
  }
 },
 "nbformat": 4,
 "nbformat_minor": 5
}
