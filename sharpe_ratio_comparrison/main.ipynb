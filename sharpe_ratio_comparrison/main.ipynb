{
 "cells": [
  {
   "cell_type": "code",
   "execution_count": 3,
   "id": "40da3e20",
   "metadata": {},
   "outputs": [
    {
     "ename": "ModuleNotFoundError",
     "evalue": "No module named 'EfficientFrontierG4'",
     "output_type": "error",
     "traceback": [
      "\u001b[0;31m---------------------------------------------------------------------------\u001b[0m",
      "\u001b[0;31mModuleNotFoundError\u001b[0m                       Traceback (most recent call last)",
      "\u001b[0;32m<ipython-input-3-c19675f305c6>\u001b[0m in \u001b[0;36m<module>\u001b[0;34m\u001b[0m\n\u001b[1;32m      2\u001b[0m \u001b[0;32mimport\u001b[0m \u001b[0msys\u001b[0m\u001b[0;34m\u001b[0m\u001b[0;34m\u001b[0m\u001b[0m\n\u001b[1;32m      3\u001b[0m \u001b[0;32mimport\u001b[0m \u001b[0mfire\u001b[0m\u001b[0;34m\u001b[0m\u001b[0;34m\u001b[0m\u001b[0m\n\u001b[0;32m----> 4\u001b[0;31m \u001b[0;32mfrom\u001b[0m \u001b[0mEfficientFrontierG4\u001b[0m \u001b[0;32mimport\u001b[0m \u001b[0mplot_current\u001b[0m\u001b[0;34m\u001b[0m\u001b[0;34m\u001b[0m\u001b[0m\n\u001b[0m\u001b[1;32m      5\u001b[0m \u001b[0;32mfrom\u001b[0m \u001b[0mEfficientFrontierG4\u001b[0m \u001b[0;32mimport\u001b[0m \u001b[0mplot_new\u001b[0m\u001b[0;34m\u001b[0m\u001b[0;34m\u001b[0m\u001b[0m\n",
      "\u001b[0;31mModuleNotFoundError\u001b[0m: No module named 'EfficientFrontierG4'"
     ]
    }
   ],
   "source": [
    "import questionary\n",
    "import sys\n",
    "import fire\n",
    "from Group4project1.EfficientFrontierG4 import plot_current\n",
    "from Group4project1.EfficientFrontierG4 import plot_new"
   ]
  },
  {
   "cell_type": "code",
   "execution_count": 7,
   "id": "aea14589",
   "metadata": {},
   "outputs": [
    {
     "name": "stdin",
     "output_type": "stream",
     "text": [
      "what stocks are in your portfolio? enter ticker seperated with commas a,b,c,f\n"
     ]
    }
   ],
   "source": [
    "current_portfolio = input(\"what stocks are in your portfolio? enter ticker seperated with commas\")\n",
    "\n"
   ]
  },
  {
   "cell_type": "code",
   "execution_count": 8,
   "id": "7168fb02",
   "metadata": {},
   "outputs": [
    {
     "name": "stdout",
     "output_type": "stream",
     "text": [
      "['a', 'b', 'c', 'f']\n"
     ]
    }
   ],
   "source": [
    "asset_list = current_portfolio.split(\",\")\n",
    "print(asset_list)"
   ]
  },
  {
   "cell_type": "code",
   "execution_count": null,
   "id": "9d6d7b6b",
   "metadata": {},
   "outputs": [],
   "source": [
    "def plot_current(asset_list)\n",
    "    "
   ]
  }
 ],
 "metadata": {
  "kernelspec": {
   "display_name": "dev",
   "language": "python",
   "name": "dev"
  },
  "language_info": {
   "codemirror_mode": {
    "name": "ipython",
    "version": 3
   },
   "file_extension": ".py",
   "mimetype": "text/x-python",
   "name": "python",
   "nbconvert_exporter": "python",
   "pygments_lexer": "ipython3",
   "version": "3.7.10"
  }
 },
 "nbformat": 4,
 "nbformat_minor": 5
}
